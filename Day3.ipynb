{
  "nbformat": 4,
  "nbformat_minor": 0,
  "metadata": {
    "colab": {
      "name": "Untitled2.ipynb",
      "provenance": [],
      "authorship_tag": "ABX9TyMo9HW21GkC51MZcHNLWpzA"
    },
    "kernelspec": {
      "name": "python3",
      "display_name": "Python 3"
    },
    "language_info": {
      "name": "python"
    }
  },
  "cells": [
    {
      "cell_type": "markdown",
      "source": [
        "Door lock system Challenge – Task One (Day 3)"
      ],
      "metadata": {
        "id": "VfjVXoRM2ETU"
      }
    },
    {
      "cell_type": "code",
      "execution_count": null,
      "metadata": {
        "id": "t2f4mL6H0dnT"
      },
      "outputs": [],
      "source": [
        "from datetime import datetime\n",
        "\n",
        "\n",
        "def main():\n",
        "    set_password = '1234'\n",
        "    prev = ''\n",
        "\n",
        "    print(\" |  __ \\                        | |                | |        / ____|               | |                     \")\n",
        "    print(\" | |  | |   ___     ___    _ __ | |   ___     ___  | | __    | (___    _   _   ___  | |_    ___   _ __ ___  \")\n",
        "    print(\" | |  | |  / _ \\   / _ \\  | '__|| |  / _ \\   / __| | |/ /     \\___ \\  | | | | / __| | __|  / _ \\ | '_ ` _ \\ \")\n",
        "    print(\" | |__| | | (_) | | (_) | | |   | | | (_) | | (__  |   <      ____) | | |_| | \\__ \\ | |_  |  __/ | | | | | |\")\n",
        "    print(\" |_____/   \\___/   \\___/  |_|   |_|  \\___/   \\___| |_|\\_\\    |_____/   \\__, | |___/  \\__|  \\___| |_| |_| |_|\")\n",
        "    print(\"                                                                        __/ |                               \")\n",
        "    print(\"                                                                       |___/                                \")\n",
        "\n",
        "    password = input(\"Please enter your password to proceed: \")\n",
        "    if password == set_password:\n",
        "        print(\">> You are successfully logged in!\")\n",
        "        print(\"You can use the following commands: \\n > Open \\n > Close \\n > Quit\")                          \n",
        "        while True:\n",
        "            print(\"Enter a command to execute\")\n",
        "            option = input().lower()\n",
        "            if option == 'open':\n",
        "                if prev == 'open':\n",
        "                    print(\">> The door is already open\")\n",
        "                    print(f\">> Door last opened at: {last_opened}\")\n",
        "                else:\n",
        "                    print(\">> The door is now open\")\n",
        "                    last_opened = datetime.now()\n",
        "                    prev = option\n",
        "            elif option == 'close':\n",
        "                if prev == 'close':\n",
        "                    print(\">> The door is already locked\")\n",
        "                    print(f\">> Door last closed at: {last_closed}\")\n",
        "                else:\n",
        "                    print(\">> The door is now locked\")\n",
        "                    last_closed = datetime.now()\n",
        "                    prev = option\n",
        "            elif option == 'quit':\n",
        "                print(\">> Goodbye\")\n",
        "                break\n",
        "            else:\n",
        "                print(\">> You have entered an invalid option. Try again\")\n",
        "    else:\n",
        "        print(\"Sorry. The password you have entered does not match our records\\nTry again\")\n",
        "        main()\n",
        "\n",
        "#Calling the main function\n",
        "main()"
      ]
    },
    {
      "cell_type": "markdown",
      "source": [
        "Day 3: Challenge Task Two (Day 3)"
      ],
      "metadata": {
        "id": "Y8OpU4eH2Z9Z"
      }
    },
    {
      "cell_type": "code",
      "source": [
        "# Input the number of fat grams.\n",
        "fat_grams = int(input('Number of fat grams consumed: '))\n",
        "#fat_calories = fat_grams\n",
        "\n",
        "# Input for the number of carb grams.\n",
        "carb_grams = int(input('Number of carbohydrate grams consumed: '))\n",
        "#carb_calories = carb_grams\n",
        "\n",
        "# Calculate the calories from fat.\n",
        "calories_from_fat = fat_grams * 9\n",
        "print ('Amount of calories from fat are ', calories_from_fat)\n",
        " \n",
        "calories_from_carbs = carb_grams * 4\n",
        "print ('Amount of calories from carbohydrates are ', calories_from_carbs)"
      ],
      "metadata": {
        "id": "R7iR9rCa2eb_"
      },
      "execution_count": null,
      "outputs": []
    }
  ]
}