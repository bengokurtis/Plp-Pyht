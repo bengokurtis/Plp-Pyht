{
  "nbformat": 4,
  "nbformat_minor": 0,
  "metadata": {
    "colab": {
      "name": "Day1.ipynb",
      "provenance": [],
      "collapsed_sections": [],
      "authorship_tag": "ABX9TyP3gjdBLysERHtB9dj2mmq+",
      "include_colab_link": true
    },
    "kernelspec": {
      "name": "python3",
      "display_name": "Python 3"
    },
    "language_info": {
      "name": "python"
    }
  },
  "cells": [
    {
      "cell_type": "markdown",
      "metadata": {
        "id": "view-in-github",
        "colab_type": "text"
      },
      "source": [
        "<a href=\"https://colab.research.google.com/github/bengokurtis/Plp-Python-Hackathon-Group-24/blob/main/Day1.ipynb\" target=\"_parent\"><img src=\"https://colab.research.google.com/assets/colab-badge.svg\" alt=\"Open In Colab\"/></a>"
      ]
    },
    {
      "cell_type": "markdown",
      "source": [
        "Bus Fare Challenge – Task One (Day 1)"
      ],
      "metadata": {
        "id": "iHSI0JmdvuO1"
      }
    },
    {
      "cell_type": "code",
      "execution_count": null,
      "metadata": {
        "id": "jYWLzCvYvq55"
      },
      "outputs": [],
      "source": [
        "import datetime\n",
        "date = datetime.datetime.now()\n",
        "\n",
        "#print(date.strftime(\"%a\"))\n",
        "#Addition of the suffix \"day\" to a shortened week day\n",
        "print('Date: '+ date.strftime('%y-%m-%d'))\n",
        "x = (date.strftime(\"%a\")) + str(\"day\")\n",
        "if (date.strftime(\"%a\")) == str(\"Thu\") :\n",
        "  x = (date.strftime(\"%a\")) + str(\"rsday\")\n",
        "if (date.strftime(\"%a\")) == str(\"Wed\") :\n",
        "  x = (date.strftime(\"%a\")) + str(\"nesday\")\n",
        "print ('Day: '+ (x))\n",
        "day = x\n",
        "\n",
        "#This if statement enumerates the fares according to day of the week\n",
        "if day == \"Saturday\" :\n",
        "  print('Fare: 100/=')\n",
        "elif day == \"Sunday\":\n",
        "  print('Fare: 60/=')\n",
        "else:\n",
        "  print('Fare: 100/=')"
      ]
    },
    {
      "cell_type": "markdown",
      "source": [
        "Sales Tax Challenge – Task Two (Day 1)"
      ],
      "metadata": {
        "id": "igwIiwBvwByB"
      }
    },
    {
      "cell_type": "code",
      "source": [
        "import math\n",
        "\n",
        "def cost_estimation():\n",
        "  wallspace = int(input(\"Wall-space in square feet: \"))\n",
        "  gallon_price = int(input(\"Price of paint per gallon: \")) \n",
        "\n",
        "#calculations to get some of the required variables\n",
        "  hours = (wallspace * 8) /115\n",
        "  labor_rates = (hours * 20) /8\n",
        "  paint_needed = math.ceil(wallspace /115)\n",
        "  paint_price = gallon_price * paint_needed\n",
        "  total_cost = labor_rates + paint_price\n",
        "\n",
        "#Printing out the required outputs\n",
        "  print(f\"Paint required in gallons: {paint_needed}\\n\"\n",
        "        f\"Labor required in hours: {hours}\\n\"\n",
        "        f\"Cost of paint: {paint_price}\\n\"\n",
        "        f\"Labor charges: {labor_rates}\\n\"\n",
        "        f\"Total paint job cost {total_cost}\")\n",
        "cost_estimation()"
      ],
      "metadata": {
        "id": "8fwD0kv4wFOm"
      },
      "execution_count": null,
      "outputs": []
    }
  ]
}