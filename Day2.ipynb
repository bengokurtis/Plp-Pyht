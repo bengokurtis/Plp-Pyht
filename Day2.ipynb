{
  "nbformat": 4,
  "nbformat_minor": 0,
  "metadata": {
    "colab": {
      "name": "Untitled1.ipynb",
      "provenance": [],
      "authorship_tag": "ABX9TyPB2P8eAjVlKRXml0IeiIWl"
    },
    "kernelspec": {
      "name": "python3",
      "display_name": "Python 3"
    },
    "language_info": {
      "name": "python"
    }
  },
  "cells": [
    {
      "cell_type": "markdown",
      "source": [
        "Personality test program - Task One"
      ],
      "metadata": {
        "id": "1DZPdOEB0P_Z"
      }
    },
    {
      "cell_type": "code",
      "execution_count": null,
      "metadata": {
        "id": "3qYYUhaO0IB-"
      },
      "outputs": [],
      "source": [
        "def reward():\n",
        "  books = int(input('Enter nummber of books purchased: '))\n",
        "\n",
        "  if books == 0:\n",
        "    points = 0\n",
        "  elif books == 1:\n",
        "    points = 6\n",
        "  elif books == 2:\n",
        "    points = 16\n",
        "  elif books == 3:\n",
        "    points = 32\n",
        "  elif books >= 4:\n",
        "    points = 60\n",
        "\n",
        "  print('Your total points are: ',points)\n",
        "\n",
        "#Calling the reward function\n",
        "reward()"
      ]
    },
    {
      "cell_type": "markdown",
      "source": [
        "Challenge - Task Two (Day 2)"
      ],
      "metadata": {
        "id": "a9lNczQB1DJp"
      }
    },
    {
      "cell_type": "code",
      "source": [
        "# career options\n",
        "import random\n",
        "\n",
        "#list of advices given to a student\n",
        "advices = [\"Take time to think about what you like to do, and dream and imagine ideal careers.\",\n",
        "           \"Talk with as many adults as possible about careers and colleges.\",\n",
        "           \"It's never too early nor too late to get organized and begin making plans.\",\n",
        "           \"Remember that everyone must follow his or her own path in life.\",\n",
        "           \"Don't let anyone control your dreams and ambitions.\",\n",
        "           \"Never stop learning: read, grow, and expand your mind.\",\n",
        "           \"Get as much education as you can.\",\n",
        "           \"Work, volunteer, or otherwise gain some experience.\",\n",
        "           \"Challenge yourself in high school, but don't overwhelm yourself.\",\n",
        "           \"Stay focused\",\n",
        "           \"Pursue your passion\",\n",
        "           \"Strive for excellence and stay motivated\"]\n",
        "\n",
        "#A list of careers to choose from\n",
        "list_of_careers = {\n",
        "    \"maths\": [\n",
        "        {\n",
        "            \"office\": [\"lecturer/ teacher\", \"Auditor\", \"mathematician\", \"budget analyst\"],\n",
        "            \"field\": [\"Software Developer\", \"Data Scientist\", \"Computer Programmer\", \"data analyst\"],\n",
        "        }\n",
        "    ],\n",
        "    \"languages\": [\n",
        "        {\n",
        "            \"office\": [\"lecture/ teacher\", \"writer\", \"reporter\", \"editor\"],\n",
        "            \"field\": [\"publisher\", \"lawyer\", \"journalist\", \"reporter\"],\n",
        "        }\n",
        "    ],\n",
        "    \"chemistry\": [\n",
        "        {\n",
        "            \"office\": [\"Lecturer/ teacher\", \"chemist\", \"Accountant/ Auditor\", \"chemical engineers\"],\n",
        "            \"field\": [\"Organic chemist\", \"Forensic Scientist.\", \"Forensic Researcher.\", \"Chemical Development Engineer.\"],\n",
        "        }\n",
        "    ],\n",
        "    \"biology\": [\n",
        "        {\n",
        "            \"office\": [\"lecturer/ teacher\", \"science writer\", \"Academic researcher.\", \"dentist\"],\n",
        "            \"field\": [\"park ranger\", \"Wildlife Biologist\", \"marine biologist\", \"Forensic scientist\"],\n",
        "        }\n",
        "    ],\n",
        "    \"computer\": [\n",
        "        {\n",
        "            \"office\": [\"teacher/ lecturer\", \"Mathematician\", \"Statistician\", \"Systems engineer\"],\n",
        "            \"field\": [\"Mobile application developer\", \"Data security analyst\", \"game designer\", \"graphic designer\"],\n",
        "        }\n",
        "    ],\n",
        "    \"history\": [\n",
        "        {\n",
        "            \"office\": [\"teacher/ lecturer\", \"lawyer\", \"writer\", \"journalist\"],\n",
        "            \"field\": [\"diplomat\", \"government historian\", \"political advisor\", \"Museum curator\"],\n",
        "        }\n",
        "    ],\n",
        "    \"geography\": [\n",
        "        {\n",
        "            \"office\": [\"teacher/ lecturer\", \"Climate Change Analyst.\", \"Water conservation officer\", \"Hydrologist.\"],\n",
        "            \"field\": [\"Surveyor\", \"Town planner\", \"Meteorologist\", \"Pollution Analyst\"],\n",
        "        }\n",
        "    ],\n",
        "    \"agriculture\": [\n",
        "        {\n",
        "            \"office\": [\"teacher/ lecturer\", \"Food scientist\", \" Agricultural engineer\", \"Agricultural salesperson.\"],\n",
        "            \"field\": [\"farmer\", \"Water/Wastewater engineer\", \"Environmental engineer\", \"Zoologist\"],\n",
        "        }\n",
        "    ],\n",
        "}\n",
        "\n",
        "#List of career questions to choose from\n",
        "career_questions = [\n",
        "    \"Q 1) What is your favorite subject? \\n1. languages, 2. computer, 3. history, 4. biology, 5. chemistry, 6. maths 7. geography 8. agriculture: \",\n",
        "    \"Q 2) Do you like working in an office? ('Y' for yes and 'N' for no): \",\n",
        "    \"Q 3) Do you feel confident working with modern technology? ('Y' for yes and 'N' for no): \",\n",
        "    ]\n",
        "\n",
        "# print(list_of_careers[\"agriculture\"][0][\"office\"])\n",
        "answers = []\n",
        "list_of_subjects = [\"languages\", \"computer\", \"history\", \"biology\", \"chemistry\", \"maths\", \"geography\", \"agriculture\"]\n",
        "my_list = [\"y\", \"n\"]\n",
        "\n",
        "print(advices[random.randint(0, len(advices))])\n",
        "\n",
        "count = 0\n",
        "for i in career_questions:\n",
        "    if count < 1:\n",
        "        question = input(i)\n",
        "        while question not in list_of_subjects:\n",
        "            print(\"error\")\n",
        "            question = input(i)\n",
        "        answers.append(question)\n",
        "        count += 1\n",
        "    else:\n",
        "        question = input(i)\n",
        "        while question not in my_list:\n",
        "            print(\"error\")\n",
        "            question = input(i).lower()\n",
        "        if question == \"y\":\n",
        "            question = \"office\"\n",
        "        else:\n",
        "            question = \"field\"\n",
        "        answers.append(question)\n",
        "\n",
        "\n",
        "if answers[2] == \"office\":\n",
        "    print(f\"You should consider being a {list_of_careers[answers[0]][0][answers[1]][random.randint(2, 3)]}\")\n",
        "else:\n",
        "    print(f\"You should consider being a {list_of_careers[answers[0]][0][answers[1]][random.randint(0, 1)]}\")"
      ],
      "metadata": {
        "id": "GqWzrMtm1IVx"
      },
      "execution_count": null,
      "outputs": []
    }
  ]
}